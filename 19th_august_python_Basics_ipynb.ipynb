{
  "nbformat": 4,
  "nbformat_minor": 0,
  "metadata": {
    "colab": {
      "provenance": [],
      "authorship_tag": "ABX9TyPfT1WYSaW+c8JOHYgYk1cF",
      "include_colab_link": true
    },
    "kernelspec": {
      "name": "python3",
      "display_name": "Python 3"
    },
    "language_info": {
      "name": "python"
    }
  },
  "cells": [
    {
      "cell_type": "markdown",
      "metadata": {
        "id": "view-in-github",
        "colab_type": "text"
      },
      "source": [
        "<a href=\"https://colab.research.google.com/github/abhishekingalkar/python_basic_veriables/blob/main/19th_august_python_Basics_ipynb.ipynb\" target=\"_parent\"><img src=\"https://colab.research.google.com/assets/colab-badge.svg\" alt=\"Open In Colab\"/></a>"
      ]
    },
    {
      "cell_type": "markdown",
      "source": [
        "TOPIC : python Basics Variable\n"
      ],
      "metadata": {
        "id": "UWacBKtnc-tT"
      }
    },
    {
      "cell_type": "markdown",
      "source": [
        "1. Declare two variables, x and y, and assign them integer values. Swap the values of these variables without using any temporary variable.\n"
      ],
      "metadata": {
        "id": "EEw8Dby2dIoP"
      }
    },
    {
      "cell_type": "code",
      "source": [
        "#ANSWER:-\n",
        "x = 4 # here we assign a integer value to variable \"x\"\n",
        "y = 8 # here we assign a integer value to variable \"y\"\n",
        "\n",
        "x = x + y # 'x = x + y'adds the values of x and y and assigns the result to x. Now, x holds the sum of the original x and y.\n",
        "y = x - y # 'y = x - y'subtracts the original value of y from the new x (which is the sum of the original x and y) and assigns the result to y. Now, y holds the original value of x.\n",
        "x = x - y # 'x = x - y' subtracts the new y (which is the original x) from the new x (which is the sum of the original x and y) and assigns the result to x. Now, x holds the original value of y.\n",
        "\n",
        "print(\"after swapping\")\n",
        "print(\"x =\", x)\n",
        "print(\"y =\", y)\n",
        "\n",
        "# As a result, the values of x and y have been swapped without using a temporary variable.\n"
      ],
      "metadata": {
        "colab": {
          "base_uri": "https://localhost:8080/"
        },
        "id": "VHH5mX-5dJ47",
        "outputId": "9ad6ca3b-8cce-4918-ff74-77038e2f8e74"
      },
      "execution_count": 2,
      "outputs": [
        {
          "output_type": "stream",
          "name": "stdout",
          "text": [
            "after swapping\n",
            "x = 8\n",
            "y = 4\n"
          ]
        }
      ]
    },
    {
      "cell_type": "markdown",
      "source": [
        "\n",
        "2. Create a program that calculates the area of a rectangle. Take the length and width as inputs from the user and store them in variables. Calculate and display the area.\n"
      ],
      "metadata": {
        "id": "UbM4q6TRdcY4"
      }
    },
    {
      "cell_type": "code",
      "source": [
        "# Input from the user\n",
        "length = float(input(\"Enter the length of the rectangle: \"))\n",
        "width = float(input(\"Enter the width of the rectangle: \"))\n",
        "\n",
        "#  store in veriable x and y respectively\n",
        "\n",
        "x = length\n",
        "y = width\n",
        "\n",
        "# Calculate the area\n",
        "r = x * y\n",
        "\n",
        "# Display the result\n",
        "print(f\"The area of the rectangle with length {x} and width {y} is {r}.\")\n"
      ],
      "metadata": {
        "colab": {
          "base_uri": "https://localhost:8080/"
        },
        "id": "PswlgJMvdhLS",
        "outputId": "e7748fe2-ad8e-4676-e33f-2aa26d5d6a6d"
      },
      "execution_count": 3,
      "outputs": [
        {
          "output_type": "stream",
          "name": "stdout",
          "text": [
            "Enter the length of the rectangle: 10\n",
            "Enter the width of the rectangle: 20\n",
            "The area of the rectangle with length 10.0 and width 20.0 is 200.0.\n"
          ]
        }
      ]
    },
    {
      "cell_type": "markdown",
      "source": [
        "3. Write a Python program that converts temperatures from Celsius to\n",
        "Fahrenheit. Take the temperature in Celsius as input, store it in a variable,\n",
        "convert it to Fahrenheit, and display the result."
      ],
      "metadata": {
        "id": "eW6D1zXbdwkq"
      }
    },
    {
      "cell_type": "code",
      "source": [
        "# Input temperature in Celsius from the user\n",
        "celsius = float(input(\"enter the tempreture in celsius:\"))\n",
        "\n",
        "#stored it into a veriable\n",
        "x = celsius\n",
        "\n",
        "# Convert Celsius to Fahrenheit\n",
        "fahrenheit  = (celsius *  9/5) + 32\n",
        "\n",
        "# Display the result\n",
        "print(f\"{x} degree celsius is equal to {fahrenheit} degrees fahrenheit.\")\n"
      ],
      "metadata": {
        "colab": {
          "base_uri": "https://localhost:8080/"
        },
        "id": "ihPgenPGdxnB",
        "outputId": "4e511914-3a82-40af-cde4-0e5b08b03464"
      },
      "execution_count": 4,
      "outputs": [
        {
          "output_type": "stream",
          "name": "stdout",
          "text": [
            "enter the tempreture in celsius:48.5\n",
            "48.5 degree celsius is equal to 119.3 degrees fahrenheit.\n"
          ]
        }
      ]
    },
    {
      "cell_type": "markdown",
      "source": [
        "TOPIC: String Based Questions"
      ],
      "metadata": {
        "id": "L1sosrUId4AA"
      }
    },
    {
      "cell_type": "markdown",
      "source": [
        "1. Write a Python program that takes a string as input and prints the length of\n",
        "the string."
      ],
      "metadata": {
        "id": "uozKqO8Cd-9g"
      }
    },
    {
      "cell_type": "code",
      "source": [
        "# Input a string from the user\n",
        "input_string =  (input(\"enter the string:\"))\n",
        "\n",
        "#Calculate the length of the string\n",
        "string_length = len(input_string)\n",
        "\n",
        "# Display the length of the string\n",
        "print(f\"the length of input string is {string_length} characters\")"
      ],
      "metadata": {
        "colab": {
          "base_uri": "https://localhost:8080/"
        },
        "id": "3KOSOJBxeAth",
        "outputId": "356bc4f7-264d-4581-8914-35ae6451afe8"
      },
      "execution_count": 5,
      "outputs": [
        {
          "output_type": "stream",
          "name": "stdout",
          "text": [
            "enter the string:Abhishek\n",
            "the length of input string is 8 characters\n"
          ]
        }
      ]
    },
    {
      "cell_type": "markdown",
      "source": [
        "2. Create a program that takes a sentence from the user and counts the number\n",
        "of vowels (a, e, i, o, u) in the string.\n"
      ],
      "metadata": {
        "id": "a3dUhq13eMIa"
      }
    },
    {
      "cell_type": "code",
      "source": [
        "# Input a sentence from the user\n",
        "sentence = input(\"Enter a sentence: \")\n",
        "\n",
        "# Initialize a variable to count vowels\n",
        "vowel_count = 0\n",
        "\n",
        "# Define a set of vowels for efficient membership checking\n",
        "vowels = {'a', 'e', 'i', 'o', 'u'}\n",
        "\n",
        "# Convert the input sentence to lowercase for case-insensitive counting\n",
        "sentence = sentence.lower()\n",
        "\n",
        "# Loop through each character in the sentence\n",
        "for char in sentence:\n",
        "    # Check if the character is a vowel\n",
        "    if char in vowels:\n",
        "        vowel_count += 1\n",
        "\n",
        "# Display the vowel count\n",
        "print(f\"The number of vowels in the sentence is: {vowel_count}\")\n"
      ],
      "metadata": {
        "id": "PntI7OjGd69j",
        "colab": {
          "base_uri": "https://localhost:8080/"
        },
        "outputId": "b92e038a-882e-4cfb-93be-b2f5f0b21abd"
      },
      "execution_count": 6,
      "outputs": [
        {
          "output_type": "stream",
          "name": "stdout",
          "text": [
            "Enter a sentence: Abhishek\n",
            "The number of vowels in the sentence is: 3\n"
          ]
        }
      ]
    },
    {
      "cell_type": "markdown",
      "source": [
        "3. Given a string, reverse the order of characters using string slicing and print\n",
        "the reversed string."
      ],
      "metadata": {
        "id": "9ejWtucRecco"
      }
    },
    {
      "cell_type": "code",
      "source": [
        "#  let given string stored in x\n",
        "\n",
        "x = \"abhishek\"\n",
        "\n",
        "#string slicing\n",
        "\n",
        "x[::-1]\n",
        "\n",
        "#result"
      ],
      "metadata": {
        "colab": {
          "base_uri": "https://localhost:8080/",
          "height": 36
        },
        "id": "qFhuYIwleTPP",
        "outputId": "4fffdf77-5df3-4adc-d560-b068dfa423d4"
      },
      "execution_count": 7,
      "outputs": [
        {
          "output_type": "execute_result",
          "data": {
            "text/plain": [
              "'kehsihba'"
            ],
            "application/vnd.google.colaboratory.intrinsic+json": {
              "type": "string"
            }
          },
          "metadata": {},
          "execution_count": 7
        }
      ]
    },
    {
      "cell_type": "markdown",
      "source": [
        "4. Write a program that takes a string as input and checks if it is a palindrome\n",
        "(reads the same forwards and backwards)."
      ],
      "metadata": {
        "id": "U6pJ6WjoelMU"
      }
    },
    {
      "cell_type": "code",
      "source": [
        "# Input a string from the user\n",
        "input_string = input(\"Enter a string: \")\n",
        "\n",
        "# Remove spaces and convert the input to lowercase for case-insensitive comparison\n",
        "input_string = input_string.replace(\" \", \"\").lower()\n",
        "\n",
        "# Reverse the input string\n",
        "reversed_string = input_string[::-1]\n",
        "\n",
        "# Check if the original and reversed strings are the same\n",
        "if input_string == reversed_string:\n",
        "    print(\"The input string is a palindrome.\")\n",
        "else:\n",
        "    print(\"The input string is not a palindrome.\")\n"
      ],
      "metadata": {
        "colab": {
          "base_uri": "https://localhost:8080/"
        },
        "id": "kThdbnFKel8B",
        "outputId": "d882680a-5275-4ec6-d184-85f2707ba187"
      },
      "execution_count": 8,
      "outputs": [
        {
          "output_type": "stream",
          "name": "stdout",
          "text": [
            "Enter a string: AAA\n",
            "The input string is a palindrome.\n"
          ]
        }
      ]
    },
    {
      "cell_type": "markdown",
      "source": [
        "5. Create a program that takes a string as input and removes all the spaces from\n",
        "it. Print the modified string without spaces."
      ],
      "metadata": {
        "id": "tchLosN-et3-"
      }
    },
    {
      "cell_type": "code",
      "source": [
        "# Input a string from the user\n",
        "input_string = input(\"Enter a string: \")\n",
        "\n",
        "# Remove spaces from the input string\n",
        "modified_string = input_string.replace(\" \", \"\")\n",
        "\n",
        "# Display the modified string without spaces\n",
        "print(\"Modified string without spaces:\", modified_string)\n"
      ],
      "metadata": {
        "colab": {
          "base_uri": "https://localhost:8080/"
        },
        "id": "8hSkCz-Geu2S",
        "outputId": "6f8bb900-dc74-4ead-a1a4-69804a12cdd1"
      },
      "execution_count": 9,
      "outputs": [
        {
          "output_type": "stream",
          "name": "stdout",
          "text": [
            "Enter a string: abhishek ingalkar @ gmail .com\n",
            "Modified string without spaces: abhishekingalkar@gmail.com\n"
          ]
        }
      ]
    }
  ]
}